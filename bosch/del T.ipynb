{
 "cells": [
  {
   "cell_type": "code",
   "execution_count": 12,
   "id": "2bdd1904",
   "metadata": {},
   "outputs": [
    {
     "name": "stderr",
     "output_type": "stream",
     "text": [
      "Processing Rows: 100%|█| 1183747/1183747 [38:00<00:00, 519.14it/s, Processed=118\n"
     ]
    }
   ],
   "source": [
    "import time\n",
    "import pandas as pd\n",
    "from tqdm import tqdm \n",
    "\n",
    "a = time.time()\n",
    "chunksize = 10000\n",
    "total_rows = 1183747 # 总行数\n",
    "b = pd.read_csv('/Users/maguoyi/Downloads/bosch-production-line-performance/train_categorical.csv.zip', \n",
    "                dtype='object', chunksize=chunksize)  # 读取数据\n",
    "\n",
    "dfs = []\n",
    "\n",
    "processed_rows = 0  # 已处理的行数\n",
    "\n",
    "    \n",
    "with tqdm(total=total_rows, desc='Processing Rows') as pbar:\n",
    "    for chunk in b:\n",
    "\n",
    "        chunk = chunk.apply(lambda x: x.str.lstrip('T'))\n",
    "        \n",
    "        dfs.append(chunk)\n",
    "\n",
    "        processed_rows += len(chunk)\n",
    "        #time.sleep(0.01)  # 模拟处理时间延迟\n",
    "        pbar.update(len(chunk))  # 更新进度条已处理的行数\n",
    "        pbar.set_postfix({'Processed': f'{processed_rows}/{total_rows} ({processed_rows * 100 / total_rows:.2f}%)'})# 更新进度条百分比信息\n",
    "\n",
    "data = pd.concat(dfs)\n",
    "data.to_csv('/Users/maguoyi/Downloads/bosch-production-line-performance/train_categorical_to_num.csv.zip', index=False)"
   ]
  },
  {
   "cell_type": "code",
   "execution_count": 1,
   "id": "13aaab55",
   "metadata": {},
   "outputs": [
    {
     "ename": "NameError",
     "evalue": "name 'pd' is not defined",
     "output_type": "error",
     "traceback": [
      "\u001b[0;31m---------------------------------------------------------------------------\u001b[0m",
      "\u001b[0;31mNameError\u001b[0m                                 Traceback (most recent call last)",
      "Cell \u001b[0;32mIn[1], line 1\u001b[0m\n\u001b[0;32m----> 1\u001b[0m category \u001b[38;5;241m=\u001b[39m \u001b[43mpd\u001b[49m\u001b[38;5;241m.\u001b[39mread_csv(\u001b[38;5;124m'\u001b[39m\u001b[38;5;124m/Users/maguoyi/Downloads/bosch-production-line-performance/train_categorical_to_num.csv.zip\u001b[39m\u001b[38;5;124m'\u001b[39m, \n\u001b[1;32m      2\u001b[0m                        nrows\u001b[38;5;241m=\u001b[39m\u001b[38;5;241m10000\u001b[39m, low_memory\u001b[38;5;241m=\u001b[39m\u001b[38;5;28;01mFalse\u001b[39;00m)\n\u001b[1;32m      3\u001b[0m category\u001b[38;5;241m.\u001b[39mhead()\n\u001b[1;32m      5\u001b[0m b\u001b[38;5;241m.\u001b[39mhead()\n",
      "\u001b[0;31mNameError\u001b[0m: name 'pd' is not defined"
     ]
    }
   ],
   "source": [
    "category = pd.read_csv('/Users/maguoyi/Downloads/bosch-production-line-performance/train_categorical_to_num.csv.zip', \n",
    "                       nrows=10000, low_memory=False)\n",
    "category.head()"
   ]
  },
  {
   "cell_type": "code",
   "execution_count": null,
   "id": "0536321d",
   "metadata": {},
   "outputs": [],
   "source": [
    "import time\n",
    "import pandas as pd\n",
    "from tqdm import tqdm \n",
    "\n",
    "b = pd.read_csv('/Users/maguoyi/Downloads/bosch-production-line-performance/train_categorical.csv.zip', \n",
    "                dtype='object', chunksize=chunksize)  # 读取数据\n",
    "\n",
    "b.head()"
   ]
  }
 ],
 "metadata": {
  "kernelspec": {
   "display_name": "Python 3 (ipykernel)",
   "language": "python",
   "name": "python3"
  },
  "language_info": {
   "codemirror_mode": {
    "name": "ipython",
    "version": 3
   },
   "file_extension": ".py",
   "mimetype": "text/x-python",
   "name": "python",
   "nbconvert_exporter": "python",
   "pygments_lexer": "ipython3",
   "version": "3.9.6"
  }
 },
 "nbformat": 4,
 "nbformat_minor": 5
}
